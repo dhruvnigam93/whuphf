{
 "cells": [
  {
   "cell_type": "code",
   "execution_count": 4,
   "id": "initial_id",
   "metadata": {
    "collapsed": true,
    "ExecuteTime": {
     "end_time": "2024-09-10T06:20:27.476196Z",
     "start_time": "2024-09-10T06:20:25.151690Z"
    }
   },
   "outputs": [
    {
     "name": "stderr",
     "output_type": "stream",
     "text": [
      "/Users/dhruv.nigam/PycharmProjects/whuphf/venv/lib/python3.10/site-packages/sentence_transformers/cross_encoder/CrossEncoder.py:11: TqdmExperimentalWarning: Using `tqdm.autonotebook.tqdm` in notebook mode. Use `tqdm.tqdm` instead to force console mode (e.g. in jupyter console)\n",
      "  from tqdm.autonotebook import tqdm, trange\n"
     ]
    }
   ],
   "source": [
    "import sentence_transformers"
   ]
  },
  {
   "cell_type": "code",
   "execution_count": 5,
   "outputs": [
    {
     "data": {
      "text/plain": "array([[ 0.0218855 ,  0.00638117,  0.00838451, ...,  0.00260959,\n        -0.01417644, -0.01027322]], dtype=float32)"
     },
     "execution_count": 5,
     "metadata": {},
     "output_type": "execute_result"
    }
   ],
   "source": [
    "# infer embeddings from text using bge en model\n",
    "model = sentence_transformers.SentenceTransformer('BAAI/bge-large-en-v1.5')\n",
    "\n",
    "\n",
    "def infer_embeddings(texts, model):\n",
    "    embeddings = model.encode(texts)\n",
    "    return embeddings\n",
    "\n",
    "\n",
    "text = \"This is a test sentence\"\n",
    "infer_embeddings([text], model)"
   ],
   "metadata": {
    "collapsed": false,
    "ExecuteTime": {
     "end_time": "2024-09-10T06:20:33.033677Z",
     "start_time": "2024-09-10T06:20:27.477239Z"
    }
   },
   "id": "8fbb371cc45a948b"
  },
  {
   "cell_type": "code",
   "execution_count": 6,
   "outputs": [
    {
     "data": {
      "text/plain": "          id  season  episode  scene  \\\n0          1       1        1      1   \n1          2       1        1      1   \n2          3       1        1      1   \n3          4       1        1      1   \n4          5       1        1      1   \n...      ...     ...      ...    ...   \n59904  59905       9       23    112   \n59905  59906       9       23    113   \n59906  59907       9       23    114   \n59907  59908       9       23    115   \n59908  59909       9       23    116   \n\n                                               line_text   speaker  deleted  \\\n0      All right Jim. Your quarterlies look very good...   Michael    False   \n1             Oh, I told you. I couldn't close it. So...       Jim    False   \n2      So you've come to the master for guidance? Is ...   Michael    False   \n3             Actually, you called me in here, but yeah.       Jim    False   \n4        All right. Well, let me show you how it's done.   Michael    False   \n...                                                  ...       ...      ...   \n59904  It all seems so very arbitrary. I applied for ...     Creed    False   \n59905  I just feel lucky that I got a chance to share...  Meredith    False   \n59906  I���m happy that this was all filmed so I can ...   Phyllis    False   \n59907  I sold paper at this company for 12 years. My ...       Jim    False   \n59908  I thought it was weird when you picked us to m...       Pam    False   \n\n       word_count                                            context  \n0              14  Michael : >> All right Jim. Your quarterlies l...  \n1               9  Michael : All right Jim. Your quarterlies look...  \n2              14  Michael : All right Jim. Your quarterlies look...  \n3               8  Michael : All right Jim. Your quarterlies look...  \n4              10  Jim : Oh, I told you. I couldn't close it. So....  \n...           ...                                                ...  \n59904          59  Creed : [still playing and singing] And all th...  \n59905          41  Erin : How did you do it? How did you capture ...  \n59906          31  Darryl : Everyday when I came into work, all I...  \n59907          46  Creed : It all seems so very arbitrary. I appl...  \n59908          46  Meredith : I just feel lucky that I got a chan...  \n\n[59909 rows x 9 columns]",
      "text/html": "<div>\n<style scoped>\n    .dataframe tbody tr th:only-of-type {\n        vertical-align: middle;\n    }\n\n    .dataframe tbody tr th {\n        vertical-align: top;\n    }\n\n    .dataframe thead th {\n        text-align: right;\n    }\n</style>\n<table border=\"1\" class=\"dataframe\">\n  <thead>\n    <tr style=\"text-align: right;\">\n      <th></th>\n      <th>id</th>\n      <th>season</th>\n      <th>episode</th>\n      <th>scene</th>\n      <th>line_text</th>\n      <th>speaker</th>\n      <th>deleted</th>\n      <th>word_count</th>\n      <th>context</th>\n    </tr>\n  </thead>\n  <tbody>\n    <tr>\n      <th>0</th>\n      <td>1</td>\n      <td>1</td>\n      <td>1</td>\n      <td>1</td>\n      <td>All right Jim. Your quarterlies look very good...</td>\n      <td>Michael</td>\n      <td>False</td>\n      <td>14</td>\n      <td>Michael : &gt;&gt; All right Jim. Your quarterlies l...</td>\n    </tr>\n    <tr>\n      <th>1</th>\n      <td>2</td>\n      <td>1</td>\n      <td>1</td>\n      <td>1</td>\n      <td>Oh, I told you. I couldn't close it. So...</td>\n      <td>Jim</td>\n      <td>False</td>\n      <td>9</td>\n      <td>Michael : All right Jim. Your quarterlies look...</td>\n    </tr>\n    <tr>\n      <th>2</th>\n      <td>3</td>\n      <td>1</td>\n      <td>1</td>\n      <td>1</td>\n      <td>So you've come to the master for guidance? Is ...</td>\n      <td>Michael</td>\n      <td>False</td>\n      <td>14</td>\n      <td>Michael : All right Jim. Your quarterlies look...</td>\n    </tr>\n    <tr>\n      <th>3</th>\n      <td>4</td>\n      <td>1</td>\n      <td>1</td>\n      <td>1</td>\n      <td>Actually, you called me in here, but yeah.</td>\n      <td>Jim</td>\n      <td>False</td>\n      <td>8</td>\n      <td>Michael : All right Jim. Your quarterlies look...</td>\n    </tr>\n    <tr>\n      <th>4</th>\n      <td>5</td>\n      <td>1</td>\n      <td>1</td>\n      <td>1</td>\n      <td>All right. Well, let me show you how it's done.</td>\n      <td>Michael</td>\n      <td>False</td>\n      <td>10</td>\n      <td>Jim : Oh, I told you. I couldn't close it. So....</td>\n    </tr>\n    <tr>\n      <th>...</th>\n      <td>...</td>\n      <td>...</td>\n      <td>...</td>\n      <td>...</td>\n      <td>...</td>\n      <td>...</td>\n      <td>...</td>\n      <td>...</td>\n      <td>...</td>\n    </tr>\n    <tr>\n      <th>59904</th>\n      <td>59905</td>\n      <td>9</td>\n      <td>23</td>\n      <td>112</td>\n      <td>It all seems so very arbitrary. I applied for ...</td>\n      <td>Creed</td>\n      <td>False</td>\n      <td>59</td>\n      <td>Creed : [still playing and singing] And all th...</td>\n    </tr>\n    <tr>\n      <th>59905</th>\n      <td>59906</td>\n      <td>9</td>\n      <td>23</td>\n      <td>113</td>\n      <td>I just feel lucky that I got a chance to share...</td>\n      <td>Meredith</td>\n      <td>False</td>\n      <td>41</td>\n      <td>Erin : How did you do it? How did you capture ...</td>\n    </tr>\n    <tr>\n      <th>59906</th>\n      <td>59907</td>\n      <td>9</td>\n      <td>23</td>\n      <td>114</td>\n      <td>I���m happy that this was all filmed so I can ...</td>\n      <td>Phyllis</td>\n      <td>False</td>\n      <td>31</td>\n      <td>Darryl : Everyday when I came into work, all I...</td>\n    </tr>\n    <tr>\n      <th>59907</th>\n      <td>59908</td>\n      <td>9</td>\n      <td>23</td>\n      <td>115</td>\n      <td>I sold paper at this company for 12 years. My ...</td>\n      <td>Jim</td>\n      <td>False</td>\n      <td>46</td>\n      <td>Creed : It all seems so very arbitrary. I appl...</td>\n    </tr>\n    <tr>\n      <th>59908</th>\n      <td>59909</td>\n      <td>9</td>\n      <td>23</td>\n      <td>116</td>\n      <td>I thought it was weird when you picked us to m...</td>\n      <td>Pam</td>\n      <td>False</td>\n      <td>46</td>\n      <td>Meredith : I just feel lucky that I got a chan...</td>\n    </tr>\n  </tbody>\n</table>\n<p>59909 rows × 9 columns</p>\n</div>"
     },
     "execution_count": 6,
     "metadata": {},
     "output_type": "execute_result"
    }
   ],
   "source": [
    "import pandas as pd\n",
    "\n",
    "df_dilogue = pd.read_csv('../data/the-office-lines - scripts.csv')\n",
    "df_dilogue['word_count'] = df_dilogue['line_text'].apply(lambda x: len(x.split()))\n",
    "\n",
    "n = 3\n",
    "df_dilogue['context'] = ''\n",
    "\n",
    "for index, row in df_dilogue.iterrows():\n",
    "    context_lines = []\n",
    "    # Get past n rows\n",
    "    for i in range(max(0, index - n), index):\n",
    "        context_lines.append(df_dilogue.loc[i, 'speaker'] + \" : \" + df_dilogue.loc[i, 'line_text'])\n",
    "    # Add current row with '>>'\n",
    "    context_lines.append(df_dilogue.loc[index, 'speaker'] + \" : >> \" + df_dilogue.loc[index, 'line_text'])\n",
    "    # Get future n rows\n",
    "    for i in range(index + 1, min(df_dilogue.shape[0], index + n + 1)):\n",
    "        context_lines.append(df_dilogue.loc[i, 'speaker'] + \" : \" + df_dilogue.loc[i, 'line_text'])\n",
    "\n",
    "    # Join all context lines with a newline character\n",
    "    df_dilogue.at[index, 'context'] = \"\\n\".join(context_lines)\n",
    "\n",
    "df_dilogue"
   ],
   "metadata": {
    "collapsed": false,
    "ExecuteTime": {
     "end_time": "2024-09-10T06:20:39.451060Z",
     "start_time": "2024-09-10T06:20:33.033365Z"
    }
   },
   "id": "db1018d00d6ea2ca"
  },
  {
   "cell_type": "code",
   "execution_count": 11,
   "outputs": [],
   "source": [
    "# for each row in the df , infer embeddings for the context and create a new dataframe with only id and the embeddings\n",
    "\n",
    "df_dilogue['context_embeddings'] = df_dilogue['context'].apply(lambda x: infer_embeddings([x], model)[0])\n",
    "df_dilogue_embeddings = df_dilogue[['id', 'context_embeddings']]\n",
    "df_dilogue_embeddings.to_pickle('../data/the-office-lines-embeddings.pkl')\n"
   ],
   "metadata": {
    "collapsed": false,
    "ExecuteTime": {
     "end_time": "2024-09-10T07:19:26.870957Z",
     "start_time": "2024-09-10T06:22:08.060653Z"
    }
   },
   "id": "f65e70a94c07b4f6"
  }
 ],
 "metadata": {
  "kernelspec": {
   "display_name": "Python 3",
   "language": "python",
   "name": "python3"
  },
  "language_info": {
   "codemirror_mode": {
    "name": "ipython",
    "version": 2
   },
   "file_extension": ".py",
   "mimetype": "text/x-python",
   "name": "python",
   "nbconvert_exporter": "python",
   "pygments_lexer": "ipython2",
   "version": "2.7.6"
  }
 },
 "nbformat": 4,
 "nbformat_minor": 5
}
